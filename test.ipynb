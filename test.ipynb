{
 "cells": [
  {
   "cell_type": "code",
   "execution_count": 17,
   "metadata": {
    "collapsed": true
   },
   "outputs": [],
   "source": [
    "import struct\n",
    "import os\n",
    "\n",
    "import numpy as np\n",
    "import pandas as pd"
   ]
  },
  {
   "cell_type": "code",
   "execution_count": 18,
   "outputs": [],
   "source": [
    "path = './data/EXTRACT_E_G1_E.coli_785nm_V7_M7.0_000000.0'"
   ],
   "metadata": {
    "collapsed": false
   }
  },
  {
   "cell_type": "code",
   "execution_count": 94,
   "outputs": [],
   "source": [
    "class OpusParser:\n",
    "\n",
    "    channel_dict = {\n",
    "        \"raman\": 40\n",
    "    }\n",
    "\n",
    "    type_dict = {\n",
    "        (0, 4): '<I',\n",
    "        (1, 4): '<f',\n",
    "        (1, 8): '<d'\n",
    "    }\n",
    "\n",
    "    def __init__(self, file, signal=\"raman\"):\n",
    "        self.file = file\n",
    "        self.signal = signal\n",
    "\n",
    "        self.check_params()\n",
    "\n",
    "        with open(path, 'rb') as f:\n",
    "            self.bin_data = f.read()\n",
    "        self.header = self.bin_data[24:504]\n",
    "\n",
    "        self.chunks = []\n",
    "        self.param_chunks = []\n",
    "        self.data_chunk = None\n",
    "        self.params = {}\n",
    "        self.data = None\n",
    "\n",
    "    def check_params(self):\n",
    "        if self.signal not in self.channel_dict.keys():\n",
    "            raise ValueError(\"Unknown signal type\")\n",
    "        if not os.path.exists(self.file):\n",
    "            raise FileNotFoundError(f\"File {self.file} does not exist.\")\n",
    "\n",
    "    def parse_header(self):\n",
    "        self.header = [self.header[i:i+12] for i in range(0, len(self.header), 12)]\n",
    "\n",
    "        for chunk in self.header:\n",
    "            if chunk == b'\\x00' * 12:\n",
    "                break\n",
    "            self.chunks.append({\"offset\": struct.unpack('<I', chunk[-4:])[0],\n",
    "                                \"length\": struct.unpack('<I', chunk[-8:-4])[0],\n",
    "                                \"block\": struct.unpack('<B', chunk[0:1])[0],\n",
    "                                \"channel\": struct.unpack('<B', chunk[1:2])[0],\n",
    "                                \"type\": struct.unpack('<B', chunk[2:3])[0]})\n",
    "\n",
    "        self.chunks = pd.DataFrame(self.chunks)\n",
    "\n",
    "        data_mask = self.chunks.block == 15\n",
    "        param_mask = self.chunks.block == 31\n",
    "        acquisition_mask = self.chunks.block == 32\n",
    "        optics_mask = self.chunks.block == 96\n",
    "        sample_mask = self.chunks.block == 160\n",
    "        channel_mask = self.chunks.channel == self.channel_dict[self.signal]\n",
    "\n",
    "        self.data_chunk = self.chunks[data_mask & channel_mask].iloc[0]\n",
    "        self.param_chunks = [\n",
    "            self.chunks[param_mask & channel_mask].iloc[0],\n",
    "            self.chunks[acquisition_mask].iloc[0],\n",
    "            self.chunks[optics_mask].iloc[0],\n",
    "            self.chunks[sample_mask].iloc[0]\n",
    "        ]\n",
    "\n",
    "\n",
    "    def parse_param_block(self, offset, length):\n",
    "        param_bin = self.bin_data[offset:offset+length*4]\n",
    "        i = 0\n",
    "\n",
    "        while i < len(param_bin):\n",
    "            tag = param_bin[i:i+3].decode('utf-8')\n",
    "            if tag == 'END':\n",
    "                break\n",
    "            i += 4\n",
    "            dtype = struct.unpack('<H', param_bin[i:i+2])[0]\n",
    "            length = struct.unpack('<H', param_bin[i+2:i+4])[0] * 2\n",
    "            i += 4\n",
    "            if dtype >= 2:\n",
    "                content = param_bin[i:i+length].rstrip(b'\\x00').decode('utf-8')\n",
    "            else:\n",
    "                content = struct.unpack(self.type_dict[dtype, length], param_bin[i:i+length])[0]\n",
    "            self.params[tag] = content\n",
    "            i += length\n",
    "\n",
    "    def parse_param_blocks(self):\n",
    "        for block in self.param_chunks:\n",
    "            self.parse_param_block(block.offset, block.length)\n",
    "\n",
    "    def parse_data_block(self):\n",
    "        offset = self.data_chunk.offset\n",
    "        length = self.data_chunk.length\n",
    "        data_bin = self.bin_data[offset:offset+length*4]\n",
    "        self.data = struct.unpack('<' + 'f' * length, data_bin)\n",
    "\n",
    "    def parse(self):\n",
    "        self.parse_header()\n",
    "        self.parse_param_blocks()\n",
    "        self.parse_data_block()\n",
    "        print(self.params)\n",
    "        print(self.data[-20:])"
   ],
   "metadata": {
    "collapsed": false
   }
  },
  {
   "cell_type": "code",
   "execution_count": 95,
   "outputs": [
    {
     "name": "stdout",
     "output_type": "stream",
     "text": [
      "{'NPT': 6821, 'FXV': 90.0, 'LXV': 3500.0, 'CSF': 1.0, 'MXY': 2974.1318359375, 'MNY': 4.041933536529541, 'DPF': 1, 'DAT': '2020/05/27', 'TIM': '17:03:13 (GMT+2)', 'DXU': 'WN', 'RLW': 12765.66143, 'RLP': 100, 'NLP': 100.0, 'LNO': 0.569516, 'LS1': 753.7087, 'LS2': 0.070193, 'LS3': -3e-06, 'LS4': 0.0, 'RNO': 0.899705, 'SC1': 784.4013, 'SC2': 0.32821, 'SC3': -0.0, 'SC4': -0.0, 'RLT': 25.9612, 'TCC': -62.0, 'CTS': -65.0, 'LPX': 0.0, 'LPW': 0.0, 'LPH': 1, 'INT': 2.0, 'ASS': 5, 'TDS': 61, 'TDE': 120, 'TDB': 60, 'GRT': 2, 'GRP': 35330, 'CLT': 'Wed May 27 17:01:20 2020', 'CRT': 'Wed May 27 17:01:20 2020', 'CSR': 4294967295, 'SSC': 0, 'AFR': 0, 'GRN': '785 nm, 400a, 90-3500cm-1', 'BGA': 2, 'RC0': 'YES', 'RC1': 'YES', 'QC3': 'Shape_785 nm_400_A_Microscope.SPC', 'GFW': 0, 'GBW': 0, 'BFW': 0, 'BBW': 0, 'PKA': 0, 'PRA': 0, 'PKL': 0, 'PRL': 0, 'SRT': 0.0, 'DUR': 0.0, 'ERT': 0.0, 'SRC': '785 nm', 'CHN': 'Microscope', 'OPF': '100%', 'APT': '25x1000 um', 'BLD': '', 'CNM': 'Default', 'CPY': '', 'DPM': '', 'EXP': 'Senterra.XPM', 'SFM': 'sample form', 'SNM': 'sample', 'XPP': 'C:\\\\OPUS_7.2.139.1294\\\\XPM', 'IST': 'OK'}\n",
      "(22.885700225830078, 24.050823211669922, 25.124679565429688, 25.852115631103516, 26.374393463134766, 26.230792999267578, 25.885250091552734, 24.748825073242188, 23.51555061340332, 21.963014602661133, 20.46153450012207, 19.18490982055664, 18.18548583984375, 17.763662338256836, 17.721582412719727, 18.11899185180664, 18.807109832763672, 19.686800003051758, 20.456501007080078, 0.0)\n"
     ]
    }
   ],
   "source": [
    "parser = OpusParser(path)\n",
    "parser.parse()"
   ],
   "metadata": {
    "collapsed": false
   }
  },
  {
   "cell_type": "code",
   "execution_count": 87,
   "outputs": [
    {
     "data": {
      "text/plain": "    offset  length  block  channel  type\n0       24     120      0       52     0\n1      504      43     23        4     0\n2      680      43     23      132     0\n3      856      43     23       56     0\n4     1120      56     48        0     0\n5     1344      30     64        0     0\n6     1464      20     96        0     0\n7     1544      42    160        0     0\n8     1712      44     31       40     0\n9     1888    6822     15       40     0\n10   29176      43     23        8     0\n11   29352      43     23      136     0\n12   29528      43     27        4     0\n13   29784     190     32        0     0\n14   30544    1024      7        4     0\n15   34640      43     27      132     0\n16   35616    1024      7      132     0\n17   41072    1024      7       56     0\n18   46896    1024      7        8     0\n19   53088    1024      7      136     0\n20   59664    1024     11        4     0\n21   66608    1024     11      132     0\n22   70704     808      0        0   104",
      "text/html": "<div>\n<style scoped>\n    .dataframe tbody tr th:only-of-type {\n        vertical-align: middle;\n    }\n\n    .dataframe tbody tr th {\n        vertical-align: top;\n    }\n\n    .dataframe thead th {\n        text-align: right;\n    }\n</style>\n<table border=\"1\" class=\"dataframe\">\n  <thead>\n    <tr style=\"text-align: right;\">\n      <th></th>\n      <th>offset</th>\n      <th>length</th>\n      <th>block</th>\n      <th>channel</th>\n      <th>type</th>\n    </tr>\n  </thead>\n  <tbody>\n    <tr>\n      <th>0</th>\n      <td>24</td>\n      <td>120</td>\n      <td>0</td>\n      <td>52</td>\n      <td>0</td>\n    </tr>\n    <tr>\n      <th>1</th>\n      <td>504</td>\n      <td>43</td>\n      <td>23</td>\n      <td>4</td>\n      <td>0</td>\n    </tr>\n    <tr>\n      <th>2</th>\n      <td>680</td>\n      <td>43</td>\n      <td>23</td>\n      <td>132</td>\n      <td>0</td>\n    </tr>\n    <tr>\n      <th>3</th>\n      <td>856</td>\n      <td>43</td>\n      <td>23</td>\n      <td>56</td>\n      <td>0</td>\n    </tr>\n    <tr>\n      <th>4</th>\n      <td>1120</td>\n      <td>56</td>\n      <td>48</td>\n      <td>0</td>\n      <td>0</td>\n    </tr>\n    <tr>\n      <th>5</th>\n      <td>1344</td>\n      <td>30</td>\n      <td>64</td>\n      <td>0</td>\n      <td>0</td>\n    </tr>\n    <tr>\n      <th>6</th>\n      <td>1464</td>\n      <td>20</td>\n      <td>96</td>\n      <td>0</td>\n      <td>0</td>\n    </tr>\n    <tr>\n      <th>7</th>\n      <td>1544</td>\n      <td>42</td>\n      <td>160</td>\n      <td>0</td>\n      <td>0</td>\n    </tr>\n    <tr>\n      <th>8</th>\n      <td>1712</td>\n      <td>44</td>\n      <td>31</td>\n      <td>40</td>\n      <td>0</td>\n    </tr>\n    <tr>\n      <th>9</th>\n      <td>1888</td>\n      <td>6822</td>\n      <td>15</td>\n      <td>40</td>\n      <td>0</td>\n    </tr>\n    <tr>\n      <th>10</th>\n      <td>29176</td>\n      <td>43</td>\n      <td>23</td>\n      <td>8</td>\n      <td>0</td>\n    </tr>\n    <tr>\n      <th>11</th>\n      <td>29352</td>\n      <td>43</td>\n      <td>23</td>\n      <td>136</td>\n      <td>0</td>\n    </tr>\n    <tr>\n      <th>12</th>\n      <td>29528</td>\n      <td>43</td>\n      <td>27</td>\n      <td>4</td>\n      <td>0</td>\n    </tr>\n    <tr>\n      <th>13</th>\n      <td>29784</td>\n      <td>190</td>\n      <td>32</td>\n      <td>0</td>\n      <td>0</td>\n    </tr>\n    <tr>\n      <th>14</th>\n      <td>30544</td>\n      <td>1024</td>\n      <td>7</td>\n      <td>4</td>\n      <td>0</td>\n    </tr>\n    <tr>\n      <th>15</th>\n      <td>34640</td>\n      <td>43</td>\n      <td>27</td>\n      <td>132</td>\n      <td>0</td>\n    </tr>\n    <tr>\n      <th>16</th>\n      <td>35616</td>\n      <td>1024</td>\n      <td>7</td>\n      <td>132</td>\n      <td>0</td>\n    </tr>\n    <tr>\n      <th>17</th>\n      <td>41072</td>\n      <td>1024</td>\n      <td>7</td>\n      <td>56</td>\n      <td>0</td>\n    </tr>\n    <tr>\n      <th>18</th>\n      <td>46896</td>\n      <td>1024</td>\n      <td>7</td>\n      <td>8</td>\n      <td>0</td>\n    </tr>\n    <tr>\n      <th>19</th>\n      <td>53088</td>\n      <td>1024</td>\n      <td>7</td>\n      <td>136</td>\n      <td>0</td>\n    </tr>\n    <tr>\n      <th>20</th>\n      <td>59664</td>\n      <td>1024</td>\n      <td>11</td>\n      <td>4</td>\n      <td>0</td>\n    </tr>\n    <tr>\n      <th>21</th>\n      <td>66608</td>\n      <td>1024</td>\n      <td>11</td>\n      <td>132</td>\n      <td>0</td>\n    </tr>\n    <tr>\n      <th>22</th>\n      <td>70704</td>\n      <td>808</td>\n      <td>0</td>\n      <td>0</td>\n      <td>104</td>\n    </tr>\n  </tbody>\n</table>\n</div>"
     },
     "execution_count": 87,
     "metadata": {},
     "output_type": "execute_result"
    }
   ],
   "source": [
    "parser.chunks"
   ],
   "metadata": {
    "collapsed": false
   }
  },
  {
   "cell_type": "code",
   "execution_count": null,
   "outputs": [],
   "source": [],
   "metadata": {
    "collapsed": false
   }
  }
 ],
 "metadata": {
  "kernelspec": {
   "display_name": "Python 3",
   "language": "python",
   "name": "python3"
  },
  "language_info": {
   "codemirror_mode": {
    "name": "ipython",
    "version": 2
   },
   "file_extension": ".py",
   "mimetype": "text/x-python",
   "name": "python",
   "nbconvert_exporter": "python",
   "pygments_lexer": "ipython2",
   "version": "2.7.6"
  }
 },
 "nbformat": 4,
 "nbformat_minor": 0
}
