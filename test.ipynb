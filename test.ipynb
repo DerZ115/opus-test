{
 "cells": [
  {
   "cell_type": "code",
   "execution_count": 1,
   "metadata": {
    "collapsed": true
   },
   "outputs": [],
   "source": [
    "import struct\n",
    "import os\n",
    "\n",
    "import numpy as np\n",
    "import pandas as pd"
   ]
  },
  {
   "cell_type": "code",
   "execution_count": 2,
   "outputs": [],
   "source": [
    "path = './data/HL_R1_1.0'"
   ],
   "metadata": {
    "collapsed": false
   }
  },
  {
   "cell_type": "code",
   "execution_count": 32,
   "outputs": [],
   "source": [
    "class OpusParser:\n",
    "\n",
    "    channel_dict = {\n",
    "        \"raman\": 40\n",
    "    }\n",
    "\n",
    "    type_dict = {\n",
    "        (0, 4): '<I',\n",
    "        (1, 4): '<f',\n",
    "        (1, 8): '<d'\n",
    "    }\n",
    "\n",
    "    def __init__(self, file, signal=\"raman\", metadata=False):\n",
    "        self.file = file\n",
    "        self.signal = signal\n",
    "\n",
    "        self._check_params()\n",
    "\n",
    "        with open(path, 'rb') as f:\n",
    "            self.bin_data = f.read()\n",
    "        self.header = self.bin_data[24:504]\n",
    "\n",
    "        self.chunks = []\n",
    "        self.param_chunks = []\n",
    "        self.data_chunk = None\n",
    "        self.params = {}\n",
    "        self.data = None\n",
    "        self.is_map_file = False\n",
    "        self.metadata=metadata\n",
    "\n",
    "    def _check_params(self):\n",
    "        if self.signal not in self.channel_dict.keys():\n",
    "            raise ValueError(\"Unknown signal type\")\n",
    "        if not os.path.exists(self.file):\n",
    "            raise FileNotFoundError(f\"File {self.file} does not exist.\")\n",
    "\n",
    "    def _parse_header(self):\n",
    "        self.header = [self.header[i:i+12] for i in range(0, len(self.header), 12)]\n",
    "\n",
    "        for chunk in self.header:\n",
    "            if chunk == b'\\x00' * 12:\n",
    "                break\n",
    "            self.chunks.append({\"offset\": struct.unpack('<I', chunk[-4:])[0],\n",
    "                                \"length\": struct.unpack('<I', chunk[-8:-4])[0],\n",
    "                                \"block\": struct.unpack('<B', chunk[0:1])[0],\n",
    "                                \"channel\": struct.unpack('<B', chunk[1:2])[0],\n",
    "                                \"type\": struct.unpack('<B', chunk[2:3])[0]})\n",
    "\n",
    "        self.chunks = pd.DataFrame(self.chunks)\n",
    "\n",
    "        data_mask = self.chunks.block == 15\n",
    "        param_mask = self.chunks.block == 31\n",
    "        acquisition_mask = self.chunks.block == 32\n",
    "        optics_mask = self.chunks.block == 96\n",
    "        sample_mask = self.chunks.block == 160\n",
    "        channel_mask = self.chunks.channel == self.channel_dict[self.signal]\n",
    "\n",
    "        self.data_chunk = self.chunks[data_mask & channel_mask].iloc[0]\n",
    "        self.param_chunks = [\n",
    "            self.chunks[param_mask & channel_mask].iloc[0],\n",
    "            self.chunks[acquisition_mask].iloc[0],\n",
    "            self.chunks[optics_mask].iloc[0],\n",
    "            self.chunks[sample_mask].iloc[0]\n",
    "        ]\n",
    "\n",
    "\n",
    "    def _parse_param_block(self, offset, length):\n",
    "        param_bin = self.bin_data[offset:offset+length*4]\n",
    "        i = 0\n",
    "\n",
    "        while i < len(param_bin):\n",
    "            tag = param_bin[i:i+3].decode('utf-8')\n",
    "            if tag == 'END':\n",
    "                break\n",
    "            i += 4\n",
    "            dtype = struct.unpack('<H', param_bin[i:i+2])[0]\n",
    "            length = struct.unpack('<H', param_bin[i+2:i+4])[0] * 2\n",
    "            i += 4\n",
    "            if dtype >= 2:\n",
    "                content = param_bin[i:i+length].rstrip(b'\\x00').decode('utf-8')\n",
    "            else:\n",
    "                content = struct.unpack(self.type_dict[dtype, length], param_bin[i:i+length])[0]\n",
    "            self.params[tag] = content\n",
    "            i += length\n",
    "\n",
    "    def _parse_param_blocks(self):\n",
    "        for block in self.param_chunks:\n",
    "            self._parse_param_block(block.offset, block.length)\n",
    "\n",
    "    def _parse_data_block(self):\n",
    "        offset = self.data_chunk.offset\n",
    "        length = self.data_chunk.length\n",
    "        data_bin = self.bin_data[offset:offset+length*4]\n",
    "\n",
    "        if not self.params:\n",
    "            raise ValueError('Parameter list is empty. Was \\'_parse_param_blocks\\' executed first?')\n",
    "\n",
    "        if len(data_bin) > (self.params['NPT'] + 1) * 4:\n",
    "            self.is_map_file = True\n",
    "\n",
    "        #self.data = data_bin #struct.unpack('<' + 'f' * length, data_bin)\n",
    "        if self.is_map_file:\n",
    "            self.data = self._parse_data_multiple(data_bin)\n",
    "        else:\n",
    "            self.data = self._parse_data_single(data_bin)\n",
    "\n",
    "\n",
    "    def _parse_data_single(self, data_bin):\n",
    "        npt = self.params['NPT']\n",
    "        if len(data_bin) > npt * 4:\n",
    "            data_bin = data_bin[:4*npt]\n",
    "        return np.asarray(struct.unpack('<' + 'f' * npt, data_bin))\n",
    "\n",
    "    def _parse_data_multiple(self, data_bin):\n",
    "        header  = struct.unpack('<'+'I'*4, data_bin[4:20])\n",
    "\n",
    "        data = []\n",
    "        ix = header[1]\n",
    "        i = 0\n",
    "\n",
    "        while i < header[0]:\n",
    "            tmp = data_bin[ix:ix+header[2]]\n",
    "            data.append(self._parse_data_single(tmp))\n",
    "            ix += header[2] + header[3]\n",
    "            i += 1\n",
    "        return np.stack(data)\n",
    "\n",
    "\n",
    "    def parse(self):\n",
    "        self._parse_header()\n",
    "        self._parse_param_blocks()\n",
    "        self._parse_data_block()"
   ],
   "metadata": {
    "collapsed": false
   }
  },
  {
   "cell_type": "code",
   "execution_count": 33,
   "outputs": [
    {
     "name": "stdout",
     "output_type": "stream",
     "text": [
      "{'NPT': 2741, 'FXV': 440.0, 'LXV': 1810.0, 'CSF': 1.0, 'MXY': 89734.375, 'MNY': 403.2350769042969, 'DPF': 0, 'DAT': '2022/12/06', 'TIM': '12:54:04 (GMT+1)', 'DXU': 'WN', 'RLW': 12771.82442, 'RLP': 25, 'NLP': 100.0, 'LNO': -0.911214, 'LS1': 753.7087, 'LS2': 0.070193, 'LS3': -3e-06, 'LS4': 0.0, 'RNO': -4.602314, 'SC1': 809.4419, 'SC2': 0.105175, 'SC3': -3e-06, 'SC4': 0.0, 'RLT': 25.9386, 'TCC': -64.0, 'CTS': -65.0, 'LPX': 0.0, 'LPW': 0.0, 'LPH': 1, 'INT': 4.0, 'ASS': 4, 'TDS': 61, 'TDE': 120, 'TDB': 60, 'GRT': 1, 'GRP': 140850, 'CLT': 'Tue Dec 06 12:41:14 2022', 'CRT': 'Tue Dec 06 12:41:14 2022', 'CSR': 4294967295, 'SSC': 0, 'AFR': 0, 'GRN': '785 nm, 1200d, 440-1810cm-1', 'BGA': 1, 'RC0': 'YES', 'RC1': 'YES', 'QC3': 'Shape_785 nm_1200_D_Microscope.SPC', 'SRC': '785 nm', 'CHN': 'Microscope', 'OPF': '25%', 'APT': '50x1000 um', 'BLD': '', 'CNM': 'Default', 'CPY': '', 'DPM': '', 'EXP': 'Senterra.XPM', 'SFM': 'getrocknet', 'SNM': 'HL', 'XPP': 'C:\\\\OPUS_7.2.139.1294\\\\XPM', 'IST': 'OK'}\n",
      "(39, 2741)\n"
     ]
    }
   ],
   "source": [
    "parser = OpusParser(path)\n",
    "parser.parse()"
   ],
   "metadata": {
    "collapsed": false
   }
  },
  {
   "cell_type": "markdown",
   "source": [],
   "metadata": {
    "collapsed": false
   }
  },
  {
   "cell_type": "code",
   "execution_count": 34,
   "outputs": [
    {
     "data": {
      "text/plain": "array([[ 6200.74951172,  6199.67773438,  6199.08740234, ...,\n         1377.92883301,  1379.99450684,  1379.09667969],\n       [25481.87304688, 25457.59570312, 25426.7578125 , ...,\n         3272.91821289,  3285.08544922,  3281.96289062],\n       [ 6189.95849609,  6190.67919922,  6186.71435547, ...,\n         1672.83325195,  1672.56005859,  1669.35839844],\n       ...,\n       [12204.11914062, 12202.46875   , 12188.28125   , ...,\n         1953.33056641,  1950.16796875,  1938.24255371],\n       [ 6735.87207031,  6725.36376953,  6720.59082031, ...,\n         1303.07165527,  1303.66137695,  1301.78259277],\n       [ 8204.6484375 ,  8211.54882812,  8215.24121094, ...,\n         1784.45947266,  1793.18737793,  1794.40942383]])"
     },
     "execution_count": 34,
     "metadata": {},
     "output_type": "execute_result"
    }
   ],
   "source": [
    "parser.data"
   ],
   "metadata": {
    "collapsed": false
   }
  }
 ],
 "metadata": {
  "kernelspec": {
   "display_name": "Python 3",
   "language": "python",
   "name": "python3"
  },
  "language_info": {
   "codemirror_mode": {
    "name": "ipython",
    "version": 2
   },
   "file_extension": ".py",
   "mimetype": "text/x-python",
   "name": "python",
   "nbconvert_exporter": "python",
   "pygments_lexer": "ipython2",
   "version": "2.7.6"
  }
 },
 "nbformat": 4,
 "nbformat_minor": 0
}
